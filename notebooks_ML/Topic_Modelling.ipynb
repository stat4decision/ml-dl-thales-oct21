{
  "nbformat": 4,
  "nbformat_minor": 0,
  "metadata": {
    "celltoolbar": "Slideshow",
    "kernelspec": {
      "display_name": "Python 3",
      "language": "python",
      "name": "python3"
    },
    "language_info": {
      "codemirror_mode": {
        "name": "ipython",
        "version": 3
      },
      "file_extension": ".py",
      "mimetype": "text/x-python",
      "name": "python",
      "nbconvert_exporter": "python",
      "pygments_lexer": "ipython3",
      "version": "3.7.7"
    },
    "colab": {
      "name": "Topic_Modelling.ipynb",
      "provenance": []
    }
  },
  "cells": [
    {
      "cell_type": "markdown",
      "metadata": {
        "id": "AivdGrr6eiZx"
      },
      "source": [
        "# Topic Modelling : trouver des thèmes dans un corpus"
      ]
    },
    {
      "cell_type": "markdown",
      "metadata": {
        "id": "RVy5GMr-eiZz"
      },
      "source": [
        "Le topic modelling est un outil de machine learning non supervisé.\n",
        "\n",
        "Il permet de trouver les thèmes majeurs dans un corpus de textes, de façon automatique (ou presque)."
      ]
    },
    {
      "cell_type": "markdown",
      "metadata": {
        "id": "XEJQu4TeeiZ0"
      },
      "source": [
        "Pour appliquer le topic modelling, **gensim** est la librairie de référence\n",
        "![](https://github.com/stat4decision/ml-dl-d3s-avr2021/blob/main/images/gensim.png?raw=1)"
      ]
    },
    {
      "cell_type": "markdown",
      "metadata": {
        "id": "s5jCYMyYeiZ0"
      },
      "source": [
        "IL faut d'abord l'installer, à l'aide de la commande suivante :\n",
        "```\n",
        "conda install -c anaconda gensim \n",
        "```"
      ]
    },
    {
      "cell_type": "markdown",
      "metadata": {
        "id": "GtKlkLc-eiZ0"
      },
      "source": [
        "Il existe plusieurs modèle de Topic Modelling, les plus connus sont :\n",
        "- LSA pour Latent Semantic Analysis, qui fonctionne un peu comme une analyse en composantes principales\n",
        "- LDA pour Latent Dirichlet Allocation, qui fonctionne un peu comme un K-means\n",
        "\n",
        "Nous allons ici nous focaliser sur la mise en oeuvre de la LDA, mais la méthodologie est la même pour la LSA : \n",
        "- Preprocessing des données textuelles : calcul du BOW et/ou TF-IDF\n",
        "- Entrainement du modèle (e.g. LDA ou LSA)\n",
        "- Interprétation des résultats et définition des thèmes majeurs\n",
        "- Eventuelles itérations pour affiner les résultats"
      ]
    },
    {
      "cell_type": "markdown",
      "metadata": {
        "id": "AJWHzh7ueiZ1"
      },
      "source": [
        "### Preprocessing des données"
      ]
    },
    {
      "cell_type": "markdown",
      "metadata": {
        "id": "dJc6yowxeiZ1"
      },
      "source": [
        "Nous allons réutiliser le dataset des revues amazon, et calculer le TF-IDF :"
      ]
    },
    {
      "cell_type": "code",
      "metadata": {
        "id": "C9MITD21ekmY",
        "outputId": "51719514-f8ad-48fc-f40b-62bfda6d163a",
        "colab": {
          "resources": {
            "http://localhost:8080/nbextensions/google.colab/files.js": {
              "data": "Ly8gQ29weXJpZ2h0IDIwMTcgR29vZ2xlIExMQwovLwovLyBMaWNlbnNlZCB1bmRlciB0aGUgQXBhY2hlIExpY2Vuc2UsIFZlcnNpb24gMi4wICh0aGUgIkxpY2Vuc2UiKTsKLy8geW91IG1heSBub3QgdXNlIHRoaXMgZmlsZSBleGNlcHQgaW4gY29tcGxpYW5jZSB3aXRoIHRoZSBMaWNlbnNlLgovLyBZb3UgbWF5IG9idGFpbiBhIGNvcHkgb2YgdGhlIExpY2Vuc2UgYXQKLy8KLy8gICAgICBodHRwOi8vd3d3LmFwYWNoZS5vcmcvbGljZW5zZXMvTElDRU5TRS0yLjAKLy8KLy8gVW5sZXNzIHJlcXVpcmVkIGJ5IGFwcGxpY2FibGUgbGF3IG9yIGFncmVlZCB0byBpbiB3cml0aW5nLCBzb2Z0d2FyZQovLyBkaXN0cmlidXRlZCB1bmRlciB0aGUgTGljZW5zZSBpcyBkaXN0cmlidXRlZCBvbiBhbiAiQVMgSVMiIEJBU0lTLAovLyBXSVRIT1VUIFdBUlJBTlRJRVMgT1IgQ09ORElUSU9OUyBPRiBBTlkgS0lORCwgZWl0aGVyIGV4cHJlc3Mgb3IgaW1wbGllZC4KLy8gU2VlIHRoZSBMaWNlbnNlIGZvciB0aGUgc3BlY2lmaWMgbGFuZ3VhZ2UgZ292ZXJuaW5nIHBlcm1pc3Npb25zIGFuZAovLyBsaW1pdGF0aW9ucyB1bmRlciB0aGUgTGljZW5zZS4KCi8qKgogKiBAZmlsZW92ZXJ2aWV3IEhlbHBlcnMgZm9yIGdvb2dsZS5jb2xhYiBQeXRob24gbW9kdWxlLgogKi8KKGZ1bmN0aW9uKHNjb3BlKSB7CmZ1bmN0aW9uIHNwYW4odGV4dCwgc3R5bGVBdHRyaWJ1dGVzID0ge30pIHsKICBjb25zdCBlbGVtZW50ID0gZG9jdW1lbnQuY3JlYXRlRWxlbWVudCgnc3BhbicpOwogIGVsZW1lbnQudGV4dENvbnRlbnQgPSB0ZXh0OwogIGZvciAoY29uc3Qga2V5IG9mIE9iamVjdC5rZXlzKHN0eWxlQXR0cmlidXRlcykpIHsKICAgIGVsZW1lbnQuc3R5bGVba2V5XSA9IHN0eWxlQXR0cmlidXRlc1trZXldOwogIH0KICByZXR1cm4gZWxlbWVudDsKfQoKLy8gTWF4IG51bWJlciBvZiBieXRlcyB3aGljaCB3aWxsIGJlIHVwbG9hZGVkIGF0IGEgdGltZS4KY29uc3QgTUFYX1BBWUxPQURfU0laRSA9IDEwMCAqIDEwMjQ7CgpmdW5jdGlvbiBfdXBsb2FkRmlsZXMoaW5wdXRJZCwgb3V0cHV0SWQpIHsKICBjb25zdCBzdGVwcyA9IHVwbG9hZEZpbGVzU3RlcChpbnB1dElkLCBvdXRwdXRJZCk7CiAgY29uc3Qgb3V0cHV0RWxlbWVudCA9IGRvY3VtZW50LmdldEVsZW1lbnRCeUlkKG91dHB1dElkKTsKICAvLyBDYWNoZSBzdGVwcyBvbiB0aGUgb3V0cHV0RWxlbWVudCB0byBtYWtlIGl0IGF2YWlsYWJsZSBmb3IgdGhlIG5leHQgY2FsbAogIC8vIHRvIHVwbG9hZEZpbGVzQ29udGludWUgZnJvbSBQeXRob24uCiAgb3V0cHV0RWxlbWVudC5zdGVwcyA9IHN0ZXBzOwoKICByZXR1cm4gX3VwbG9hZEZpbGVzQ29udGludWUob3V0cHV0SWQpOwp9CgovLyBUaGlzIGlzIHJvdWdobHkgYW4gYXN5bmMgZ2VuZXJhdG9yIChub3Qgc3VwcG9ydGVkIGluIHRoZSBicm93c2VyIHlldCksCi8vIHdoZXJlIHRoZXJlIGFyZSBtdWx0aXBsZSBhc3luY2hyb25vdXMgc3RlcHMgYW5kIHRoZSBQeXRob24gc2lkZSBpcyBnb2luZwovLyB0byBwb2xsIGZvciBjb21wbGV0aW9uIG9mIGVhY2ggc3RlcC4KLy8gVGhpcyB1c2VzIGEgUHJvbWlzZSB0byBibG9jayB0aGUgcHl0aG9uIHNpZGUgb24gY29tcGxldGlvbiBvZiBlYWNoIHN0ZXAsCi8vIHRoZW4gcGFzc2VzIHRoZSByZXN1bHQgb2YgdGhlIHByZXZpb3VzIHN0ZXAgYXMgdGhlIGlucHV0IHRvIHRoZSBuZXh0IHN0ZXAuCmZ1bmN0aW9uIF91cGxvYWRGaWxlc0NvbnRpbnVlKG91dHB1dElkKSB7CiAgY29uc3Qgb3V0cHV0RWxlbWVudCA9IGRvY3VtZW50LmdldEVsZW1lbnRCeUlkKG91dHB1dElkKTsKICBjb25zdCBzdGVwcyA9IG91dHB1dEVsZW1lbnQuc3RlcHM7CgogIGNvbnN0IG5leHQgPSBzdGVwcy5uZXh0KG91dHB1dEVsZW1lbnQubGFzdFByb21pc2VWYWx1ZSk7CiAgcmV0dXJuIFByb21pc2UucmVzb2x2ZShuZXh0LnZhbHVlLnByb21pc2UpLnRoZW4oKHZhbHVlKSA9PiB7CiAgICAvLyBDYWNoZSB0aGUgbGFzdCBwcm9taXNlIHZhbHVlIHRvIG1ha2UgaXQgYXZhaWxhYmxlIHRvIHRoZSBuZXh0CiAgICAvLyBzdGVwIG9mIHRoZSBnZW5lcmF0b3IuCiAgICBvdXRwdXRFbGVtZW50Lmxhc3RQcm9taXNlVmFsdWUgPSB2YWx1ZTsKICAgIHJldHVybiBuZXh0LnZhbHVlLnJlc3BvbnNlOwogIH0pOwp9CgovKioKICogR2VuZXJhdG9yIGZ1bmN0aW9uIHdoaWNoIGlzIGNhbGxlZCBiZXR3ZWVuIGVhY2ggYXN5bmMgc3RlcCBvZiB0aGUgdXBsb2FkCiAqIHByb2Nlc3MuCiAqIEBwYXJhbSB7c3RyaW5nfSBpbnB1dElkIEVsZW1lbnQgSUQgb2YgdGhlIGlucHV0IGZpbGUgcGlja2VyIGVsZW1lbnQuCiAqIEBwYXJhbSB7c3RyaW5nfSBvdXRwdXRJZCBFbGVtZW50IElEIG9mIHRoZSBvdXRwdXQgZGlzcGxheS4KICogQHJldHVybiB7IUl0ZXJhYmxlPCFPYmplY3Q+fSBJdGVyYWJsZSBvZiBuZXh0IHN0ZXBzLgogKi8KZnVuY3Rpb24qIHVwbG9hZEZpbGVzU3RlcChpbnB1dElkLCBvdXRwdXRJZCkgewogIGNvbnN0IGlucHV0RWxlbWVudCA9IGRvY3VtZW50LmdldEVsZW1lbnRCeUlkKGlucHV0SWQpOwogIGlucHV0RWxlbWVudC5kaXNhYmxlZCA9IGZhbHNlOwoKICBjb25zdCBvdXRwdXRFbGVtZW50ID0gZG9jdW1lbnQuZ2V0RWxlbWVudEJ5SWQob3V0cHV0SWQpOwogIG91dHB1dEVsZW1lbnQuaW5uZXJIVE1MID0gJyc7CgogIGNvbnN0IHBpY2tlZFByb21pc2UgPSBuZXcgUHJvbWlzZSgocmVzb2x2ZSkgPT4gewogICAgaW5wdXRFbGVtZW50LmFkZEV2ZW50TGlzdGVuZXIoJ2NoYW5nZScsIChlKSA9PiB7CiAgICAgIHJlc29sdmUoZS50YXJnZXQuZmlsZXMpOwogICAgfSk7CiAgfSk7CgogIGNvbnN0IGNhbmNlbCA9IGRvY3VtZW50LmNyZWF0ZUVsZW1lbnQoJ2J1dHRvbicpOwogIGlucHV0RWxlbWVudC5wYXJlbnRFbGVtZW50LmFwcGVuZENoaWxkKGNhbmNlbCk7CiAgY2FuY2VsLnRleHRDb250ZW50ID0gJ0NhbmNlbCB1cGxvYWQnOwogIGNvbnN0IGNhbmNlbFByb21pc2UgPSBuZXcgUHJvbWlzZSgocmVzb2x2ZSkgPT4gewogICAgY2FuY2VsLm9uY2xpY2sgPSAoKSA9PiB7CiAgICAgIHJlc29sdmUobnVsbCk7CiAgICB9OwogIH0pOwoKICAvLyBXYWl0IGZvciB0aGUgdXNlciB0byBwaWNrIHRoZSBmaWxlcy4KICBjb25zdCBmaWxlcyA9IHlpZWxkIHsKICAgIHByb21pc2U6IFByb21pc2UucmFjZShbcGlja2VkUHJvbWlzZSwgY2FuY2VsUHJvbWlzZV0pLAogICAgcmVzcG9uc2U6IHsKICAgICAgYWN0aW9uOiAnc3RhcnRpbmcnLAogICAgfQogIH07CgogIGNhbmNlbC5yZW1vdmUoKTsKCiAgLy8gRGlzYWJsZSB0aGUgaW5wdXQgZWxlbWVudCBzaW5jZSBmdXJ0aGVyIHBpY2tzIGFyZSBub3QgYWxsb3dlZC4KICBpbnB1dEVsZW1lbnQuZGlzYWJsZWQgPSB0cnVlOwoKICBpZiAoIWZpbGVzKSB7CiAgICByZXR1cm4gewogICAgICByZXNwb25zZTogewogICAgICAgIGFjdGlvbjogJ2NvbXBsZXRlJywKICAgICAgfQogICAgfTsKICB9CgogIGZvciAoY29uc3QgZmlsZSBvZiBmaWxlcykgewogICAgY29uc3QgbGkgPSBkb2N1bWVudC5jcmVhdGVFbGVtZW50KCdsaScpOwogICAgbGkuYXBwZW5kKHNwYW4oZmlsZS5uYW1lLCB7Zm9udFdlaWdodDogJ2JvbGQnfSkpOwogICAgbGkuYXBwZW5kKHNwYW4oCiAgICAgICAgYCgke2ZpbGUudHlwZSB8fCAnbi9hJ30pIC0gJHtmaWxlLnNpemV9IGJ5dGVzLCBgICsKICAgICAgICBgbGFzdCBtb2RpZmllZDogJHsKICAgICAgICAgICAgZmlsZS5sYXN0TW9kaWZpZWREYXRlID8gZmlsZS5sYXN0TW9kaWZpZWREYXRlLnRvTG9jYWxlRGF0ZVN0cmluZygpIDoKICAgICAgICAgICAgICAgICAgICAgICAgICAgICAgICAgICAgJ24vYSd9IC0gYCkpOwogICAgY29uc3QgcGVyY2VudCA9IHNwYW4oJzAlIGRvbmUnKTsKICAgIGxpLmFwcGVuZENoaWxkKHBlcmNlbnQpOwoKICAgIG91dHB1dEVsZW1lbnQuYXBwZW5kQ2hpbGQobGkpOwoKICAgIGNvbnN0IGZpbGVEYXRhUHJvbWlzZSA9IG5ldyBQcm9taXNlKChyZXNvbHZlKSA9PiB7CiAgICAgIGNvbnN0IHJlYWRlciA9IG5ldyBGaWxlUmVhZGVyKCk7CiAgICAgIHJlYWRlci5vbmxvYWQgPSAoZSkgPT4gewogICAgICAgIHJlc29sdmUoZS50YXJnZXQucmVzdWx0KTsKICAgICAgfTsKICAgICAgcmVhZGVyLnJlYWRBc0FycmF5QnVmZmVyKGZpbGUpOwogICAgfSk7CiAgICAvLyBXYWl0IGZvciB0aGUgZGF0YSB0byBiZSByZWFkeS4KICAgIGxldCBmaWxlRGF0YSA9IHlpZWxkIHsKICAgICAgcHJvbWlzZTogZmlsZURhdGFQcm9taXNlLAogICAgICByZXNwb25zZTogewogICAgICAgIGFjdGlvbjogJ2NvbnRpbnVlJywKICAgICAgfQogICAgfTsKCiAgICAvLyBVc2UgYSBjaHVua2VkIHNlbmRpbmcgdG8gYXZvaWQgbWVzc2FnZSBzaXplIGxpbWl0cy4gU2VlIGIvNjIxMTU2NjAuCiAgICBsZXQgcG9zaXRpb24gPSAwOwogICAgd2hpbGUgKHBvc2l0aW9uIDwgZmlsZURhdGEuYnl0ZUxlbmd0aCkgewogICAgICBjb25zdCBsZW5ndGggPSBNYXRoLm1pbihmaWxlRGF0YS5ieXRlTGVuZ3RoIC0gcG9zaXRpb24sIE1BWF9QQVlMT0FEX1NJWkUpOwogICAgICBjb25zdCBjaHVuayA9IG5ldyBVaW50OEFycmF5KGZpbGVEYXRhLCBwb3NpdGlvbiwgbGVuZ3RoKTsKICAgICAgcG9zaXRpb24gKz0gbGVuZ3RoOwoKICAgICAgY29uc3QgYmFzZTY0ID0gYnRvYShTdHJpbmcuZnJvbUNoYXJDb2RlLmFwcGx5KG51bGwsIGNodW5rKSk7CiAgICAgIHlpZWxkIHsKICAgICAgICByZXNwb25zZTogewogICAgICAgICAgYWN0aW9uOiAnYXBwZW5kJywKICAgICAgICAgIGZpbGU6IGZpbGUubmFtZSwKICAgICAgICAgIGRhdGE6IGJhc2U2NCwKICAgICAgICB9LAogICAgICB9OwogICAgICBwZXJjZW50LnRleHRDb250ZW50ID0KICAgICAgICAgIGAke01hdGgucm91bmQoKHBvc2l0aW9uIC8gZmlsZURhdGEuYnl0ZUxlbmd0aCkgKiAxMDApfSUgZG9uZWA7CiAgICB9CiAgfQoKICAvLyBBbGwgZG9uZS4KICB5aWVsZCB7CiAgICByZXNwb25zZTogewogICAgICBhY3Rpb246ICdjb21wbGV0ZScsCiAgICB9CiAgfTsKfQoKc2NvcGUuZ29vZ2xlID0gc2NvcGUuZ29vZ2xlIHx8IHt9OwpzY29wZS5nb29nbGUuY29sYWIgPSBzY29wZS5nb29nbGUuY29sYWIgfHwge307CnNjb3BlLmdvb2dsZS5jb2xhYi5fZmlsZXMgPSB7CiAgX3VwbG9hZEZpbGVzLAogIF91cGxvYWRGaWxlc0NvbnRpbnVlLAp9Owp9KShzZWxmKTsK",
              "ok": true,
              "headers": [
                [
                  "content-type",
                  "application/javascript"
                ]
              ],
              "status": 200,
              "status_text": ""
            }
          },
          "base_uri": "https://localhost:8080/",
          "height": 37
        }
      },
      "source": [
        "from google.colab import files\n",
        "uploaded = files.upload()"
      ],
      "execution_count": 1,
      "outputs": [
        {
          "output_type": "display_data",
          "data": {
            "text/html": [
              "\n",
              "     <input type=\"file\" id=\"files-5336c43a-5312-427a-829a-aa9bcecb249a\" name=\"files[]\" multiple disabled\n",
              "        style=\"border:none\" />\n",
              "     <output id=\"result-5336c43a-5312-427a-829a-aa9bcecb249a\">\n",
              "      Upload widget is only available when the cell has been executed in the\n",
              "      current browser session. Please rerun this cell to enable.\n",
              "      </output>\n",
              "      <script src=\"/nbextensions/google.colab/files.js\"></script> "
            ],
            "text/plain": [
              "<IPython.core.display.HTML object>"
            ]
          },
          "metadata": {
            "tags": []
          }
        }
      ]
    },
    {
      "cell_type": "code",
      "metadata": {
        "id": "0rvftZ80eiZ1",
        "outputId": "63640b1f-0eae-483d-89d9-127bc6ba4eed",
        "colab": {
          "base_uri": "https://localhost:8080/",
          "height": 198
        }
      },
      "source": [
        "import pandas as pd\n",
        "\n",
        "df = pd.read_csv('amazon_reviews.csv', sep='|')\n",
        "df.head()"
      ],
      "execution_count": 2,
      "outputs": [
        {
          "output_type": "execute_result",
          "data": {
            "text/html": [
              "<div>\n",
              "<style scoped>\n",
              "    .dataframe tbody tr th:only-of-type {\n",
              "        vertical-align: middle;\n",
              "    }\n",
              "\n",
              "    .dataframe tbody tr th {\n",
              "        vertical-align: top;\n",
              "    }\n",
              "\n",
              "    .dataframe thead th {\n",
              "        text-align: right;\n",
              "    }\n",
              "</style>\n",
              "<table border=\"1\" class=\"dataframe\">\n",
              "  <thead>\n",
              "    <tr style=\"text-align: right;\">\n",
              "      <th></th>\n",
              "      <th>review</th>\n",
              "      <th>class</th>\n",
              "    </tr>\n",
              "  </thead>\n",
              "  <tbody>\n",
              "    <tr>\n",
              "      <th>0</th>\n",
              "      <td>great cd: my lovely pat has one of the great v...</td>\n",
              "      <td>1</td>\n",
              "    </tr>\n",
              "    <tr>\n",
              "      <th>1</th>\n",
              "      <td>one of the best game music soundtracks - for a...</td>\n",
              "      <td>1</td>\n",
              "    </tr>\n",
              "    <tr>\n",
              "      <th>2</th>\n",
              "      <td>batteries died within a year ...: i bought thi...</td>\n",
              "      <td>0</td>\n",
              "    </tr>\n",
              "    <tr>\n",
              "      <th>3</th>\n",
              "      <td>works fine, but maha energy is better: check o...</td>\n",
              "      <td>1</td>\n",
              "    </tr>\n",
              "    <tr>\n",
              "      <th>4</th>\n",
              "      <td>great for the non-audiophile: reviewed quite a...</td>\n",
              "      <td>1</td>\n",
              "    </tr>\n",
              "  </tbody>\n",
              "</table>\n",
              "</div>"
            ],
            "text/plain": [
              "                                              review  class\n",
              "0  great cd: my lovely pat has one of the great v...      1\n",
              "1  one of the best game music soundtracks - for a...      1\n",
              "2  batteries died within a year ...: i bought thi...      0\n",
              "3  works fine, but maha energy is better: check o...      1\n",
              "4  great for the non-audiophile: reviewed quite a...      1"
            ]
          },
          "metadata": {
            "tags": []
          },
          "execution_count": 2
        }
      ]
    },
    {
      "cell_type": "code",
      "metadata": {
        "id": "8bgDCFGSh6dn"
      },
      "source": [
        "!pip install pyldavis "
      ],
      "execution_count": null,
      "outputs": []
    },
    {
      "cell_type": "code",
      "metadata": {
        "id": "BJ9Chcc6eiZ2",
        "outputId": "b43f7b45-0fae-4209-f7a3-bf29de9accda",
        "colab": {
          "base_uri": "https://localhost:8080/"
        }
      },
      "source": [
        "from sklearn.feature_extraction.text import TfidfVectorizer\n",
        "from nltk.corpus import stopwords\n",
        "from nltk.tokenize import word_tokenize\n",
        "import nltk\n",
        "nltk.download('stopwords')\n",
        "stops = stopwords.words('english')\n",
        "nltk.download('punkt')\n",
        "\n",
        "\n",
        "def clean_data(quote):\n",
        "    quote = quote.lower()\n",
        "    tokens = word_tokenize(quote)\n",
        "    token_punc = [t for t in tokens if t.isalpha()]\n",
        "    token_stop = [t for t in token_punc if t not in stops]\n",
        "    return token_stop\n",
        "\n",
        "# On effectue le traitement en tokens pour la suite\n",
        "df['tokens'] = df['review'].apply(clean_data)"
      ],
      "execution_count": 3,
      "outputs": [
        {
          "output_type": "stream",
          "text": [
            "[nltk_data] Downloading package stopwords to /root/nltk_data...\n",
            "[nltk_data]   Package stopwords is already up-to-date!\n",
            "[nltk_data] Downloading package punkt to /root/nltk_data...\n",
            "[nltk_data]   Package punkt is already up-to-date!\n"
          ],
          "name": "stdout"
        }
      ]
    },
    {
      "cell_type": "code",
      "metadata": {
        "id": "EVoaYiTHeiZ3"
      },
      "source": [
        "# On calcule de TF-IDF sur les 1000 premières reviews\n",
        "vectorizer = TfidfVectorizer(stop_words=stops, analyzer=lambda x: x)\n",
        "\n",
        "tfidf = vectorizer.fit_transform(df['tokens'])"
      ],
      "execution_count": 4,
      "outputs": []
    },
    {
      "cell_type": "markdown",
      "metadata": {
        "id": "68vQbUPIeiZ3"
      },
      "source": [
        "### Topic modelling"
      ]
    },
    {
      "cell_type": "markdown",
      "metadata": {
        "id": "O_jVURV5eiZ3"
      },
      "source": [
        "Nous allons ensuite passer à l'étape de Topic Modelling à l'aide de gensim.\n",
        "\n",
        "La première étape est toujours la même : instancier le modèle de LDA qu'il faut importer au préalable de la façon suivante :\n",
        "```python\n",
        "from gensim.models import LdaModel\n",
        "```"
      ]
    },
    {
      "cell_type": "markdown",
      "metadata": {
        "id": "v2NmHLaVeiZ3"
      },
      "source": [
        "La classe `LdaModel` a la signature suivante :\n",
        "```python\n",
        "lda_model = gensim.models.ldamodel.LdaModel(corpus,\n",
        "                                            id2word,\n",
        "                                            num_topics, \n",
        "                                            random_state,\n",
        "                                            chunksize,\n",
        "                                            passes)\n",
        "```\n",
        "\n",
        "Avec :\n",
        "- `Corpus` le TF-IDF ou BOW (calculé avec scikit-learn)\n",
        "- `id2word` un dictionnaire avec les correspondances entre indices dans le corpus et mots (calculé par gensim)\n",
        "- `num_topics` est le nombre désiré de thèmes\n",
        "- `random_state` pour la reproductibilité (mettre toujours la même valeur)\n",
        "- `chunksize` la taille du mini-batch (laisser par défaut)\n",
        "- `passes` le nombre de fois que le modèle verra tout le corpus pour s'entrainer (1 par défaut, en général 5 ou 10 est très bien)\n"
      ]
    },
    {
      "cell_type": "markdown",
      "metadata": {
        "id": "d4z0fos7eiZ4"
      },
      "source": [
        "La seule information qui nous manque est donc le paramètre à donner en `id2word`.\n",
        "\n",
        "On peut utiliser pour ça l'objet `Dictionary`, qui s'importe de la façon suivante \n",
        "```python\n",
        "from gensim.corpora import Dictionary\n",
        "```\n",
        "\n",
        "Et qui s'applique directement sur les tokens (d'où la nécessité de le calculer au-dessus) :"
      ]
    },
    {
      "cell_type": "code",
      "metadata": {
        "id": "3bdCDfCUeiZ4"
      },
      "source": [
        "from gensim.corpora import Dictionary\n",
        "from nltk.tokenize import word_tokenize\n",
        "\n",
        "id2word = Dictionary(df['tokens'])"
      ],
      "execution_count": 5,
      "outputs": []
    },
    {
      "cell_type": "markdown",
      "metadata": {
        "id": "fO-QDL6TeiZ5"
      },
      "source": [
        "Enfin un dernier détail avant de pouvoir utiliser le modèle, il faut convertir le TF-IDF de `scikit-learn` en un format propre à `gensim` à l'aide de la fonction `Sparse2Corpus` :"
      ]
    },
    {
      "cell_type": "code",
      "metadata": {
        "id": "4k0UXy_EeiZ5"
      },
      "source": [
        "from gensim.matutils import Sparse2Corpus\n",
        "\n",
        "tfidf_gensim = Sparse2Corpus(tfidf, documents_columns=False)"
      ],
      "execution_count": 6,
      "outputs": []
    },
    {
      "cell_type": "markdown",
      "metadata": {
        "id": "g9RWpyGbeiZ5"
      },
      "source": [
        "Finalement, il est possible d'instancier et d'entrainer notre modèle (le tout se faisant en même temps) :"
      ]
    },
    {
      "cell_type": "code",
      "metadata": {
        "id": "gy9gERJweiZ5"
      },
      "source": [
        "from gensim.models import LdaModel\n",
        "\n",
        "# On instancie et entraine un modèle qui trouvera 3 thèmes\n",
        "lda = LdaModel(corpus=tfidf_gensim, id2word=id2word, num_topics=3, random_state=0, passes=5)"
      ],
      "execution_count": 7,
      "outputs": []
    },
    {
      "cell_type": "markdown",
      "metadata": {
        "id": "10byT6y0eiZ5"
      },
      "source": [
        "Il est maintenant possible d'afficher les thèmes majeurs, avec la méthode `.print_topics()` :"
      ]
    },
    {
      "cell_type": "code",
      "metadata": {
        "id": "qHXDQzqReiZ6",
        "outputId": "980ed2aa-4b1e-4e3f-e449-5783adf6fb6d",
        "colab": {
          "base_uri": "https://localhost:8080/"
        }
      },
      "source": [
        "from pprint import pprint\n",
        "pprint(lda.print_topics())"
      ],
      "execution_count": 8,
      "outputs": [
        {
          "output_type": "stream",
          "text": [
            "[(0,\n",
            "  '0.007*\"obligatory\" + 0.006*\"thats\" + 0.004*\"binaries\" + 0.004*\"bcsn\" + '\n",
            "  '0.003*\"sacrilege\" + 0.002*\"pony\" + 0.002*\"chopping\" + 0.002*\"smiling\" + '\n",
            "  '0.001*\"conditions\" + 0.001*\"broke\"'),\n",
            " (1,\n",
            "  '0.001*\"covers\" + 0.001*\"fx\" + 0.001*\"jagged\" + 0.001*\"disability\" + '\n",
            "  '0.001*\"emanuell\" + 0.001*\"exceeption\" + 0.001*\"aikido\" + 0.000*\"sly\" + '\n",
            "  '0.000*\"engineers\" + 0.000*\"positioning\"'),\n",
            " (2,\n",
            "  '0.006*\"cronilogical\" + 0.004*\"occupy\" + 0.004*\"dolbly\" + 0.003*\"hatred\" + '\n",
            "  '0.003*\"awestruck\" + 0.003*\"barker\" + 0.003*\"mcad\" + 0.003*\"hercules\" + '\n",
            "  '0.002*\"texans\" + 0.002*\"fillers\"')]\n"
          ],
          "name": "stdout"
        }
      ]
    },
    {
      "cell_type": "markdown",
      "metadata": {
        "id": "W2Y3vXL3eiZ6"
      },
      "source": [
        "L'idée est ensuite d'interpréter ces résultats..."
      ]
    },
    {
      "cell_type": "markdown",
      "metadata": {
        "id": "gGkmHWIVeiZ6"
      },
      "source": [
        "### Visualisation des résultats"
      ]
    },
    {
      "cell_type": "markdown",
      "metadata": {
        "id": "DiQGGdTUeiZ6"
      },
      "source": [
        "Il existe une librairie dédiée de visualisation des résultats de LDA, nommée `pyLDAvis`.\n",
        "\n",
        "Cette dernière doit au préalable être installée avec la commande suivante :\n",
        "```\n",
        "conda install -c conda-forge pyldavis \n",
        "```"
      ]
    },
    {
      "cell_type": "markdown",
      "metadata": {
        "id": "RUkfNOMxeiZ7"
      },
      "source": [
        "L'utilisation est ensuite relativement simple, il suffit ensuite d'effectuer quelques imports et lignes de code :"
      ]
    },
    {
      "cell_type": "code",
      "metadata": {
        "id": "-Ku73K-DeiZ7",
        "outputId": "998580e0-379f-4978-cc08-d0afcb959b8f",
        "colab": {
          "base_uri": "https://localhost:8080/",
          "height": 861
        }
      },
      "source": [
        "import pyLDAvis\n",
        "import pyLDAvis.gensim_models\n",
        "\n",
        "pyLDAvis.enable_notebook()\n",
        "bow = [id2word.doc2bow(line) for line in df['tokens']]  # convert corpus to BoW format\n",
        "vis = pyLDAvis.gensim_models.prepare(topic_model=lda, dictionary=id2word, corpus=bow)\n",
        "vis"
      ],
      "execution_count": 16,
      "outputs": [
        {
          "output_type": "execute_result",
          "data": {
            "text/html": [
              "\n",
              "<link rel=\"stylesheet\" type=\"text/css\" href=\"https://cdn.jsdelivr.net/gh/bmabey/pyLDAvis@3.3.1/pyLDAvis/js/ldavis.v1.0.0.css\">\n",
              "\n",
              "\n",
              "<div id=\"ldavis_el193140161949244368437122006\"></div>\n",
              "<script type=\"text/javascript\">\n",
              "\n",
              "var ldavis_el193140161949244368437122006_data = {\"mdsDat\": {\"x\": [0.12698349747879834, -0.048713972101455935, -0.07826952537734241], \"y\": [0.0044062720599321635, -0.030600024685225803, 0.026193752625293616], \"topics\": [1, 2, 3], \"cluster\": [1, 1, 1], \"Freq\": [45.074636737198645, 29.803066725057047, 25.122296537744308]}, \"tinfo\": {\"Term\": [\"obligatory\", \"thats\", \"cronilogical\", \"bcsn\", \"binaries\", \"occupy\", \"sacrilege\", \"barker\", \"pony\", \"hercules\", \"dolbly\", \"hatred\", \"awestruck\", \"chopping\", \"texans\", \"episdoes\", \"smiling\", \"designation\", \"mcad\", \"aureliano\", \"cap\\u00edtulos\", \"broke\", \"fillers\", \"hoskins\", \"carefully\", \"buts\", \"absentee\", \"dietrich\", \"displaying\", \"bali\", \"designation\", \"cronilogical\", \"occupy\", \"buts\", \"aureliano\", \"barker\", \"carefully\", \"rollout\", \"hoskins\", \"amock\", \"pavement\", \"entertaining\", \"bums\", \"safely\", \"corduroy\", \"moulding\", \"beart\", \"pizza\", \"teresa\", \"delightful\", \"cliches\", \"vibrating\", \"compra\", \"terran\", \"heartbreaker\", \"enters\", \"meltzer\", \"institutionalized\", \"asteroid\", \"hercules\", \"episdoes\", \"reformat\", \"cap\\u00edtulos\", \"sadko\", \"weaker\", \"dolph\", \"cone\", \"texans\", \"dietrich\", \"mysteries\", \"recut\", \"absentee\", \"plato\", \"fillers\", \"dolbly\", \"awestruck\", \"hatred\", \"stacks\", \"sect\", \"grubby\", \"pdf\", \"mcad\", \"speachless\", \"swaddleme\", \"twickenham\", \"messed\", \"unraveled\", \"weak\", \"conditions\", \"ephemistic\", \"thats\", \"bcsn\", \"obligatory\", \"sacrilege\", \"pony\", \"chopping\", \"broke\", \"buenos\", \"bali\", \"hallmarks\", \"displaying\", \"bravado\", \"entertainment\", \"republished\", \"explaning\", \"darvas\", \"policy\", \"mortal\", \"discouraged\", \"addictions\", \"lovitz\", \"abysmally\", \"triviality\", \"abnormal\", \"stale\", \"locale\", \"smiling\", \"feastival\", \"featurettes\", \"slice\", \"binaries\", \"berrymore\", \"krusty\", \"bruscantini\", \"stead\", \"percive\", \"spritual\", \"hatters\", \"outings\", \"conditions\", \"unraveled\", \"mcad\", \"hatred\", \"dolbly\", \"awestruck\", \"alfredo\", \"investing\", \"garwood\", \"covers\", \"jagged\", \"emanuell\", \"sly\", \"famousdirector\", \"prep\", \"fx\", \"positioning\", \"upgraded\", \"transplant\", \"cancer\", \"clase\", \"redeaming\", \"cripple\", \"smartly\", \"vita\", \"charecter\", \"apt\", \"chuckles\", \"risky\", \"arbus\", \"hillarious\", \"integrating\", \"jonni\", \"ant\", \"undersstand\", \"cahracters\", \"northwestern\", \"headlamp\", \"sacrificed\", \"exceeption\", \"scored\", \"aikido\", \"engineers\", \"stack\", \"disability\", \"suffered\", \"autos\", \"psychotic\", \"superfluous\", \"fantasies\"], \"Freq\": [777.0, 708.0, 1159.0, 467.0, 547.0, 811.0, 324.0, 583.0, 265.0, 504.0, 773.0, 755.0, 716.0, 202.0, 480.0, 367.0, 195.0, 283.0, 659.0, 297.0, 362.0, 158.0, 440.0, 291.0, 268.0, 256.0, 373.0, 356.0, 143.0, 134.0, 277.15422717822446, 1133.5665134873534, 787.9670567425859, 248.95064896082934, 287.79329807444594, 564.4548408305161, 259.4201519087598, 174.0509252812686, 280.59124457550655, 191.29145464874, 168.7698590102499, 148.4997511864487, 177.77370784797014, 122.18257793486966, 125.72582400085855, 120.55065821575087, 195.98914523313496, 229.54844105187482, 154.23985288734266, 150.86950787616433, 183.72819496020287, 130.27488880161778, 186.23760368523233, 107.50182309586653, 115.77424478321986, 106.13006003238448, 115.39946003044699, 99.73172620029338, 129.6438240524832, 476.5539916050065, 346.24634605808563, 251.45663227792792, 338.1767823613696, 213.69456604224368, 190.33063797984008, 162.98300151667064, 193.80953970643273, 430.8468249979031, 324.45995167211385, 237.3570994259513, 239.09314539274146, 336.1902508757056, 246.88010267944745, 390.97273838002116, 640.7210766488265, 592.5082754188451, 611.1634162160716, 325.1316392979377, 289.1279969934304, 323.07555357099454, 362.7842155483821, 509.92919738674243, 243.11594856905378, 250.51396821991918, 260.3303668928365, 279.2774673097527, 329.32089268598116, 258.8378120490852, 278.99221492595166, 251.0022221743306, 704.5085853183652, 463.20994053526323, 768.0734177685982, 319.9789781896193, 260.8311074838529, 197.59659171977842, 154.51037665948382, 122.44898957567615, 129.3121880564362, 98.23785194885461, 137.15767046155895, 92.04983211245569, 87.6908683688248, 85.58111904016323, 82.04800126002955, 75.38236080058955, 75.53320442605344, 72.26359001485216, 70.80860170158918, 67.10989837458193, 67.59497811149176, 66.9279773683358, 55.986644000090564, 53.11918093211017, 53.91422075532946, 51.27372496034981, 179.73003394844818, 46.90078894024023, 60.013019418339255, 44.8879538437715, 500.51527453715295, 144.72487367127655, 56.70150852073974, 151.99124403765498, 112.8256884090511, 88.7685272355183, 93.9113556935906, 77.63591506362796, 126.40333707800318, 165.84117748686677, 136.09835423396996, 146.842529660639, 140.79322899916093, 129.7872386756989, 120.45527693476186, 81.35542931832902, 87.77814678210174, 83.84570195049841, 88.13359419123019, 68.90580740149103, 65.97276864585805, 43.703453242065066, 34.612803347714156, 35.495418075249525, 72.35136642400741, 39.16203804531953, 26.987855441835467, 23.991803398571747, 26.418866718084868, 21.094376810506024, 22.04642962023826, 23.81532017933001, 19.51191532701283, 26.11843326399637, 20.80507242672023, 19.479094001035353, 18.776097723897877, 17.99329023650404, 17.26510922194811, 20.142185387545826, 25.74420327054315, 15.47875625413794, 13.364337213795066, 15.56349037749045, 14.619432835907114, 18.035267180538714, 17.249727440651455, 26.432828071045506, 51.14735512419809, 20.881708393754632, 49.85749187490771, 39.35715688420914, 18.3962603252228, 68.49653541240825, 32.57430005722122, 19.011164323484994, 30.169712086670735, 22.479007208649087, 21.455155604837593], \"Total\": [777.0, 708.0, 1159.0, 467.0, 547.0, 811.0, 324.0, 583.0, 265.0, 504.0, 773.0, 755.0, 716.0, 202.0, 480.0, 367.0, 195.0, 283.0, 659.0, 297.0, 362.0, 158.0, 440.0, 291.0, 268.0, 256.0, 373.0, 356.0, 143.0, 134.0, 283.3311446829269, 1159.2667840260476, 811.4460425956423, 256.4283175047574, 297.1158460029756, 583.2898693123898, 268.19515100160163, 180.1004651634568, 291.3104114339383, 198.71778907353138, 175.37318643973788, 154.45632184060057, 185.2681283015013, 127.67971221220986, 131.45716588222174, 126.04819870653154, 205.07267259581528, 240.24469459595664, 161.48300529551486, 158.04391110072442, 192.54740950218923, 136.54054621059265, 195.64804587350295, 113.05653035447635, 121.80022337430695, 111.67429313012661, 121.48820685679281, 105.42708685024189, 137.17134722313514, 504.6934373419673, 367.297621199403, 267.24912036935984, 362.35016907568473, 226.93020440592454, 203.16827884273337, 173.15004873641976, 207.13073757778596, 480.4725889416849, 356.67375701150496, 256.82699697114055, 258.8561772326993, 373.00636323985475, 268.19410713156515, 440.21017788492486, 773.6510133752109, 716.161221981198, 755.3042975707331, 369.87550714741093, 323.22930125029933, 369.1815990854946, 429.9384443089732, 659.8544116436198, 270.94986143971823, 282.32139617370234, 299.1865693237529, 336.45156900391146, 468.44076199884097, 302.85444575916966, 447.95620553855156, 322.1465278511722, 708.6990028992303, 467.46157885453675, 777.2124837583474, 324.2556245496518, 265.5715195463273, 202.7102390101608, 158.6513723095533, 126.57292251439694, 134.35277986210122, 102.35165030079222, 143.35926153989723, 96.24314369530816, 91.7850669322664, 89.83768418354319, 86.26897301011216, 79.68076041357509, 79.86712658165632, 76.44418102414755, 74.96779658439175, 71.17020892096795, 71.76568933443724, 71.13165803124252, 60.165234925659526, 57.26317371091283, 58.150414229294064, 55.67501908709537, 195.55774813512664, 51.045397402644376, 65.45092533820625, 49.03352979497657, 547.1199736289176, 166.04362203981157, 62.441776654543325, 194.74093569634638, 145.59466982169604, 108.06399884724216, 125.49737997791709, 97.80648780841308, 220.08661533481413, 447.95620553855156, 468.44076199884097, 659.8544116436198, 755.3042975707331, 773.6510133752109, 716.161221981198, 124.59594051583089, 212.7351823030341, 198.6842171551976, 92.76530334468498, 72.89052996640564, 70.11971212907645, 47.21416178082098, 38.22973133467606, 39.2291597475404, 79.98901860236414, 43.60653571730945, 30.520446919231986, 27.619343727433744, 30.41868109337019, 24.522738819835965, 25.63610710151285, 27.853458981451652, 22.943533403127034, 30.76702384226745, 24.873767912701044, 23.3480129745163, 22.58184335896014, 21.736766964645877, 21.19103064318165, 24.86060528423804, 31.925259511238366, 19.441646426547358, 16.79531132424584, 19.573779630211355, 18.402733418259302, 22.780719609612184, 21.844132168265872, 33.61663651330671, 67.8422187159651, 26.775066736132878, 70.59978638773023, 54.61225368197705, 23.524078707731405, 112.0118729750067, 50.725607345702855, 24.5769584252141, 53.157821993284145, 32.73886575905284, 34.2609277127895], \"Category\": [\"Default\", \"Default\", \"Default\", \"Default\", \"Default\", \"Default\", \"Default\", \"Default\", \"Default\", \"Default\", \"Default\", \"Default\", \"Default\", \"Default\", \"Default\", \"Default\", \"Default\", \"Default\", \"Default\", \"Default\", \"Default\", \"Default\", \"Default\", \"Default\", \"Default\", \"Default\", \"Default\", \"Default\", \"Default\", \"Default\", \"Topic1\", \"Topic1\", \"Topic1\", \"Topic1\", \"Topic1\", \"Topic1\", \"Topic1\", \"Topic1\", \"Topic1\", \"Topic1\", \"Topic1\", \"Topic1\", \"Topic1\", \"Topic1\", \"Topic1\", \"Topic1\", \"Topic1\", \"Topic1\", \"Topic1\", \"Topic1\", \"Topic1\", \"Topic1\", \"Topic1\", \"Topic1\", \"Topic1\", \"Topic1\", \"Topic1\", \"Topic1\", \"Topic1\", \"Topic1\", \"Topic1\", \"Topic1\", \"Topic1\", \"Topic1\", \"Topic1\", \"Topic1\", \"Topic1\", \"Topic1\", \"Topic1\", \"Topic1\", \"Topic1\", \"Topic1\", \"Topic1\", \"Topic1\", \"Topic1\", \"Topic1\", \"Topic1\", \"Topic1\", \"Topic1\", \"Topic1\", \"Topic1\", \"Topic1\", \"Topic1\", \"Topic1\", \"Topic1\", \"Topic1\", \"Topic1\", \"Topic1\", \"Topic1\", \"Topic1\", \"Topic2\", \"Topic2\", \"Topic2\", \"Topic2\", \"Topic2\", \"Topic2\", \"Topic2\", \"Topic2\", \"Topic2\", \"Topic2\", \"Topic2\", \"Topic2\", \"Topic2\", \"Topic2\", \"Topic2\", \"Topic2\", \"Topic2\", \"Topic2\", \"Topic2\", \"Topic2\", \"Topic2\", \"Topic2\", \"Topic2\", \"Topic2\", \"Topic2\", \"Topic2\", \"Topic2\", \"Topic2\", \"Topic2\", \"Topic2\", \"Topic2\", \"Topic2\", \"Topic2\", \"Topic2\", \"Topic2\", \"Topic2\", \"Topic2\", \"Topic2\", \"Topic2\", \"Topic2\", \"Topic2\", \"Topic2\", \"Topic2\", \"Topic2\", \"Topic2\", \"Topic2\", \"Topic2\", \"Topic2\", \"Topic3\", \"Topic3\", \"Topic3\", \"Topic3\", \"Topic3\", \"Topic3\", \"Topic3\", \"Topic3\", \"Topic3\", \"Topic3\", \"Topic3\", \"Topic3\", \"Topic3\", \"Topic3\", \"Topic3\", \"Topic3\", \"Topic3\", \"Topic3\", \"Topic3\", \"Topic3\", \"Topic3\", \"Topic3\", \"Topic3\", \"Topic3\", \"Topic3\", \"Topic3\", \"Topic3\", \"Topic3\", \"Topic3\", \"Topic3\", \"Topic3\", \"Topic3\", \"Topic3\", \"Topic3\", \"Topic3\", \"Topic3\", \"Topic3\", \"Topic3\", \"Topic3\", \"Topic3\", \"Topic3\"], \"logprob\": [30.0, 29.0, 28.0, 27.0, 26.0, 25.0, 24.0, 23.0, 22.0, 21.0, 20.0, 19.0, 18.0, 17.0, 16.0, 15.0, 14.0, 13.0, 12.0, 11.0, 10.0, 9.0, 8.0, 7.0, 6.0, 5.0, 4.0, 3.0, 2.0, 1.0, -6.4548, -5.0462, -5.4099, -6.5621, -6.4171, -5.7435, -6.5209, -6.92, -6.4424, -6.8255, -6.9508, -7.0787, -6.8988, -7.2738, -7.2452, -7.2873, -6.8013, -6.6432, -7.0408, -7.0629, -6.8659, -7.2097, -6.8523, -7.4018, -7.3277, -7.4147, -7.3309, -7.4768, -7.2145, -5.9127, -6.2322, -6.5521, -6.2558, -6.7148, -6.8306, -6.9857, -6.8125, -6.0136, -6.2972, -6.6098, -6.6025, -6.2617, -6.5704, -6.1107, -5.6167, -5.695, -5.664, -6.2951, -6.4125, -6.3014, -6.1855, -5.8451, -6.5858, -6.5558, -6.5174, -6.4471, -6.2823, -6.5231, -6.4481, -6.5539, -5.1081, -5.5274, -5.0217, -5.8974, -6.1017, -6.3794, -6.6254, -6.8579, -6.8034, -7.0782, -6.7445, -7.1433, -7.1918, -7.2162, -7.2583, -7.343, -7.341, -7.3853, -7.4056, -7.4593, -7.4521, -7.462, -7.6405, -7.6931, -7.6782, -7.7284, -6.4742, -7.8176, -7.5711, -7.8615, -5.45, -6.6908, -7.6278, -6.6418, -6.9398, -7.1796, -7.1233, -7.3136, -6.8261, -6.5546, -6.7522, -6.6763, -6.7183, -6.7997, -6.8743, -7.2668, -7.1908, -7.2366, -7.0159, -7.262, -7.3055, -7.7173, -7.9505, -7.9254, -7.2132, -7.8271, -8.1994, -8.3171, -8.2207, -8.4458, -8.4016, -8.3244, -8.5237, -8.2321, -8.4596, -8.5254, -8.5622, -8.6048, -8.6461, -8.4919, -8.2466, -8.7553, -8.9022, -8.7498, -8.8124, -8.6024, -8.647, -8.2202, -7.5601, -8.4559, -7.5856, -7.8221, -8.5826, -7.268, -8.0112, -8.5497, -8.0879, -8.3822, -8.4288], \"loglift\": [30.0, 29.0, 28.0, 27.0, 26.0, 25.0, 24.0, 23.0, 22.0, 21.0, 20.0, 19.0, 18.0, 17.0, 16.0, 15.0, 14.0, 13.0, 12.0, 11.0, 10.0, 9.0, 8.0, 7.0, 6.0, 5.0, 4.0, 3.0, 2.0, 1.0, 0.7748, 0.7744, 0.7675, 0.7673, 0.765, 0.764, 0.7636, 0.7627, 0.7594, 0.7588, 0.7585, 0.7575, 0.7556, 0.7528, 0.7523, 0.7523, 0.7515, 0.7513, 0.751, 0.7504, 0.75, 0.7499, 0.7476, 0.7465, 0.7461, 0.7459, 0.7454, 0.7413, 0.7404, 0.7395, 0.7378, 0.7359, 0.7278, 0.7368, 0.7316, 0.7363, 0.7304, 0.6878, 0.7022, 0.718, 0.7174, 0.6929, 0.714, 0.6782, 0.6083, 0.6073, 0.5851, 0.6679, 0.6854, 0.6634, 0.627, 0.5391, 0.6885, 0.6773, 0.6577, 0.6106, 0.4445, 0.6398, 0.3233, 0.5473, 1.2046, 1.2014, 1.1987, 1.1973, 1.1925, 1.185, 1.1841, 1.1774, 1.1723, 1.1695, 1.1663, 1.166, 1.1649, 1.162, 1.1604, 1.1551, 1.1548, 1.1543, 1.1535, 1.1518, 1.1507, 1.1496, 1.1386, 1.1354, 1.1349, 1.1282, 1.1262, 1.1259, 1.1238, 1.1222, 1.1215, 1.0731, 1.1141, 0.9627, 0.9556, 1.0139, 0.9206, 0.9796, 0.656, 0.2169, -0.0255, -0.2921, -0.4693, -0.5747, -0.5721, 0.7843, 0.3253, 0.3478, 1.3302, 1.3252, 1.3205, 1.3041, 1.282, 1.2814, 1.2811, 1.2739, 1.2584, 1.2406, 1.2404, 1.2308, 1.2306, 1.2248, 1.2194, 1.2176, 1.2028, 1.2002, 1.1969, 1.1924, 1.1765, 1.1709, 1.1662, 1.1535, 1.1529, 1.1522, 1.1513, 1.1478, 1.1453, 1.141, 1.0989, 1.1328, 1.0336, 1.0538, 1.1355, 0.8896, 0.9385, 1.1246, 0.815, 1.0054, 0.9134]}, \"token.table\": {\"Topic\": [1, 2, 3, 1, 2, 3, 1, 2, 3, 1, 2, 3, 1, 2, 3, 1, 2, 3, 1, 2, 3, 1, 2, 3, 1, 2, 3, 1, 2, 3, 1, 2, 3, 1, 2, 3, 1, 2, 3, 1, 2, 3, 1, 2, 3, 1, 2, 3, 1, 2, 3, 1, 2, 3, 1, 2, 3, 1, 2, 3, 1, 2, 3, 1, 2, 3, 1, 2, 3, 1, 2, 3, 1, 2, 3, 1, 2, 3, 1, 2, 3, 1, 2, 3, 1, 2, 3, 1, 2, 3, 1, 2, 3, 1, 2, 3, 1, 2, 3, 1, 2, 3, 1, 2, 3, 1, 2, 3, 1, 2, 3, 1, 2, 3, 1, 2, 3, 1, 2, 3, 1, 2, 3, 1, 2, 3, 1, 2, 3, 1, 2, 3, 1, 2, 3, 1, 2, 3, 1, 2, 3, 1, 2, 3, 1, 2, 3, 1, 2, 3, 1, 2, 3, 1, 2, 3, 1, 2, 3, 1, 2, 3, 1, 2, 3, 1, 2, 3, 1, 2, 3, 1, 2, 3, 1, 2, 3, 1, 2, 3, 1, 2, 3, 1, 2, 3, 1, 2, 3, 1, 2, 3, 1, 2, 3, 1, 2, 3, 1, 2, 3, 1, 2, 3, 1, 2, 3, 1, 2, 3, 1, 2, 3, 1, 2, 3, 1, 2, 3, 1, 2, 3, 1, 2, 3, 1, 2, 3, 1, 2, 3, 1, 2, 3, 1, 2, 3, 1, 2, 3, 1, 2, 3, 1, 2, 3, 1, 2, 3, 1, 2, 3, 1, 2, 3, 1, 2, 3, 1, 2, 3, 1, 2, 3, 1, 2, 3, 1, 2, 3, 1, 2, 3, 1, 2, 3, 1, 2, 3, 1, 2, 3, 1, 2, 3, 1, 2, 3, 1, 2, 3, 1, 2, 3, 1, 2, 3, 1, 2, 3, 1, 2, 3, 1, 2, 3, 1, 2, 3, 1, 2, 3, 1, 2, 3, 1, 2, 3, 1, 2, 3, 1, 2, 3, 1, 2, 3, 1, 2, 3, 1, 2, 3, 1, 2, 3, 1, 2, 3, 1, 2, 3, 1, 2, 3, 1, 2, 3, 1, 2, 3, 1, 2, 3, 1, 2, 3, 1, 2, 3, 1, 2, 3, 1, 2, 3, 1, 2, 3, 1, 2, 3, 1, 2, 3, 1, 2, 3, 1, 2, 3, 1, 2, 3, 1, 2, 3, 1, 2, 3, 1, 2, 3, 1, 2, 3, 1, 2, 3, 1, 2, 3, 1, 2, 3, 1, 2, 3, 1, 2, 3, 1, 2, 3, 1, 2, 3, 1, 2, 3, 1, 2, 3, 1, 2, 3, 1, 2, 3], \"Freq\": [0.0174632304707454, 0.9255512149495063, 0.052389691412236206, 0.9007889224236679, 0.09115126000715687, 0.008042758235925606, 0.014058437939978553, 0.941915341978563, 0.04217531381993566, 0.01405082288167041, 0.9414051330719174, 0.04215246864501123, 0.05665739522258913, 0.2407939296960038, 0.7082174402823641, 0.32103774677087243, 0.6501014372110167, 0.02407783100781543, 0.9611620624931794, 0.02012904842917653, 0.015096786321882398, 0.05954042653299271, 0.11908085306598543, 0.7740255449289053, 0.042830197203139804, 0.08566039440627961, 0.8137737468596563, 0.09437955301355352, 0.09437955301355352, 0.802226200615205, 0.9477197871981997, 0.03645076104608461, 0.02187045662765076, 0.9693188831036487, 0.02019414339799268, 0.01009707169899634, 0.12206555213611082, 0.08137703475740721, 0.7730818301953686, 0.8280258436215199, 0.16756003580873927, 0.004189000895218482, 0.014886182496951582, 0.960158771053377, 0.022329273745427373, 0.9669291885094291, 0.027430615276863236, 0.005143240364411857, 0.002139213242830331, 0.9904557314304432, 0.0064176397284909925, 0.955758744054129, 0.029257920736350886, 0.014628960368175443, 0.10840524784314942, 0.8732644965142592, 0.01806754130719157, 0.08042111807426512, 0.9157040944365188, 0.005483258050518076, 0.010390350539315871, 0.9559122496170601, 0.03117105161794761, 0.006303128585921374, 0.9769849308178129, 0.01890938575776412, 0.20540108763968754, 0.7805241330308127, 0.015405081572976567, 0.007900583949037409, 0.9638712417825638, 0.023701751847112224, 0.9607696781516932, 0.026987912307631833, 0.016192747384579098, 0.9710316022152289, 0.015598901240405284, 0.011699175930303963, 0.054339753626371286, 0.16301926087911386, 0.8150963043955693, 0.06574907024604376, 0.06574907024604376, 0.854737913198569, 0.9327993439666405, 0.05795498882632974, 0.008279284118047105, 0.9657147007794085, 0.022371769130024907, 0.011185884565012454, 0.08040599265134897, 0.08040599265134897, 0.8442629228391642, 0.009866299846352362, 0.9767636847888839, 0.014799449769528543, 0.044283364475788685, 0.08856672895157737, 0.8413839250399849, 0.04077847940830816, 0.08155695881661632, 0.8563480675744713, 0.9556088055181441, 0.031161156701678613, 0.015580578350839307, 0.9506867250811136, 0.030667313712293986, 0.015333656856146993, 0.6228287420744058, 0.3705719397288579, 0.006697083248111889, 0.9366065233420277, 0.048278686770207614, 0.014483606031062284, 0.9584871174910993, 0.022821121845026174, 0.022821121845026174, 0.021559785047742107, 0.021559785047742107, 0.9486305421006527, 0.07180436732586255, 0.07180436732586255, 0.8616524079103507, 0.9782045130817102, 0.019840126808535568, 0.0025878426272002916, 0.012550081033484107, 0.9412560775113081, 0.03765024310045232, 0.9554306708074619, 0.025309421743244024, 0.01898206630743302, 0.9776546108617462, 0.010588317085145266, 0.010588317085145266, 0.9083931565773956, 0.08130679487884097, 0.008411047746086997, 0.36603262592661373, 0.01785525004520067, 0.6070785015368227, 0.013339060844269224, 0.9470733199431148, 0.04001718253280767, 0.020926447079703273, 0.9556410833064494, 0.020926447079703273, 0.8285389522124533, 0.16803442088552095, 0.0038777174050504837, 0.9413800411233448, 0.0404273637292234, 0.017326013026810028, 0.028522649897911697, 0.028522649897911697, 0.9412474466310861, 0.23804181522525622, 0.0366218177269625, 0.7141254456757686, 0.9491889048850773, 0.026863836930709737, 0.026863836930709737, 0.958199691902132, 0.01942296672774592, 0.01942296672774592, 0.010895018475477702, 0.9587616258420378, 0.03268505542643311, 0.7791485498051339, 0.21108406926991674, 0.009312532467790445, 0.9420153576550372, 0.049006579299973034, 0.008167763216662172, 0.1326607556524689, 0.11792067169108349, 0.7517442820306572, 0.011591653002323133, 0.9505155461904969, 0.0347749590069694, 0.0261576517827358, 0.0523153035654716, 0.915517812395753, 0.20431437404968228, 0.1751266063282991, 0.6129431221490468, 0.019590404833408067, 0.9207490271701791, 0.058771214500224205, 0.03055724559531204, 0.9167173678593612, 0.04583586839296806, 0.8882120851422275, 0.10449553942849736, 0.006814926484467219, 0.06250858039471209, 0.037505148236827254, 0.9001235576838541, 0.5637085904640015, 0.42278144284800107, 0.015099337244571466, 0.8749081774392555, 0.11647384405538076, 0.008126082143398657, 0.00977023816480915, 0.9574833401512967, 0.02931071449442745, 0.8089454832511142, 0.18667972690410328, 0.003971909083066027, 0.1738126005843316, 0.7974931085634037, 0.03067281186782322, 0.09155776867645518, 0.09155776867645518, 0.778241033749869, 0.9523792057713871, 0.02463049670098415, 0.02463049670098415, 0.9451282000261023, 0.049535020965728635, 0.005944202515887436, 0.04022428209477319, 0.12067284628431957, 0.8044856418954638, 0.9646067870242376, 0.02746211493307438, 0.010298293099902893, 0.9485228415923982, 0.028455685247771947, 0.028455685247771947, 0.03132315963314187, 0.15661579816570934, 0.8144021504616885, 0.5734829503951777, 0.4136598330719315, 0.014102039763815846, 0.027438406620472863, 0.027438406620472863, 0.9466250284063138, 0.05143597296546402, 0.15430791889639206, 0.7715395944819603, 0.04804475722395572, 0.9128503872551587, 0.04804475722395572, 0.017961376868782877, 0.9160302203079268, 0.05388413060634863, 0.013934235276970209, 0.9475279988339741, 0.04180270583091062, 0.7728977650231207, 0.22277641462431128, 0.004546457441312475, 0.9465939367724725, 0.02469375487232537, 0.02469375487232537, 0.8292426777084118, 0.16049858278227325, 0.008916587932348513, 0.01308144042623879, 0.9418637106891928, 0.03924432127871637, 0.9599502511076349, 0.015866946299299748, 0.023800419448949624, 0.9228001837619567, 0.062298746583085686, 0.011681014984328567, 0.0877935391977746, 0.0877935391977746, 0.7901418527799715, 0.007719896586048061, 0.9881467630141518, 0.0038599482930240306, 0.9711058513260555, 0.024647356632641004, 0.0036971034948961507, 0.41347357658058037, 0.572501875265419, 0.013630997030129023, 0.9636592881208335, 0.017106377895636096, 0.017106377895636096, 0.844306911384579, 0.14885851881160622, 0.006977743069294042, 0.14806041022614191, 0.8235860318829143, 0.027761326917401605, 0.9573572493944719, 0.033299382587633805, 0.012487268470362677, 0.9209747471402562, 0.06711556861750854, 0.011185928102918092, 0.012520796012081364, 0.9515804969181837, 0.03756238803624409, 0.007530928028037707, 0.9827861076589208, 0.01129639204205656, 0.045864684435505565, 0.045864684435505565, 0.8943613464923584, 0.025491241883219235, 0.07647372564965771, 0.8921934659126732, 0.3950500455540315, 0.03762381386228872, 0.5643572079343308, 0.9232926274158428, 0.06181038509896856, 0.011589447206056605, 0.03900748253392137, 0.07801496506784274, 0.8581646157462701, 0.9391986011145621, 0.048643752248961385, 0.011225481288221859, 0.011131186306594308, 0.9572820223671105, 0.03339355891978293, 0.04600500164658647, 0.09201000329317294, 0.8280900296385565, 0.9661274324976336, 0.016657369525821267, 0.016657369525821267, 0.14873587957024834, 0.05949435182809934, 0.7734265737652914, 0.0030839865966515393, 0.9868757109284926, 0.009251959789954618, 0.943021227871476, 0.04406641251735869, 0.013219923755207608, 0.9555159381721514, 0.02349629356161028, 0.02349629356161028, 0.14939271821130556, 0.07469635910565278, 0.7843117706093542, 0.8941021091903015, 0.09590714666055138, 0.009281336773601746, 0.02039420788552834, 0.9177393548487752, 0.06118262365658502, 0.021180085853101247, 0.042360171706202494, 0.9319237775364548, 0.04358526572300792, 0.08717053144601584, 0.8717053144601584, 0.06647652738881638, 0.9204442253836113, 0.015340737089726855, 0.8968448948775838, 0.09226799330016294, 0.011072159196019553, 0.23108052140294028, 0.7490196210991857, 0.023904881524442097, 0.12752890505395317, 0.08501927003596879, 0.7651734303237191, 0.8786740233396256, 0.1135517199392747, 0.00811083713851962, 0.017196782056562485, 0.9286262310543743, 0.051590346169687454, 0.2060514992529589, 0.7761273138528119, 0.020605149925295888, 0.21685299744236278, 0.13799736200877633, 0.6505589923270884, 0.2443578851777376, 0.0610894712944344, 0.6719841842387785, 0.8890576605308674, 0.10271980938404444, 0.010626187177659771, 0.9536607255864423, 0.02477040845679071, 0.018577806342593033, 0.955274318620763, 0.026535397739465637, 0.026535397739465637, 0.8970334831157467, 0.09782035662747122, 0.006243852550689652, 0.001411036273381338, 0.9947805727338432, 0.004233108820144014, 0.03620650837574826, 0.07241301675149651, 0.8689562010179582, 0.01662089412990085, 0.9307700712744476, 0.049862682389702546, 0.8690229664642843, 0.12032625689505476, 0.010027188074587896, 0.10217750673523876, 0.10217750673523876, 0.8174200538819101, 0.7023299992002277, 0.2903248628912795, 0.006404224916719401, 0.03276491994518814, 0.06552983989037628, 0.8846528385200798, 0.9520981394017212, 0.021971495524655105, 0.021971495524655105, 0.0650046624676261, 0.0650046624676261, 0.8450606120791392, 0.8551962952063026, 0.135378564106017, 0.009905748593123195, 0.9351853600486199, 0.049220282107822096, 0.014766084632346629], \"Term\": [\"abnormal\", \"abnormal\", \"abnormal\", \"absentee\", \"absentee\", \"absentee\", \"abysmally\", \"abysmally\", \"abysmally\", \"addictions\", \"addictions\", \"addictions\", \"aikido\", \"aikido\", \"aikido\", \"alfredo\", \"alfredo\", \"alfredo\", \"amock\", \"amock\", \"amock\", \"ant\", \"ant\", \"ant\", \"apt\", \"apt\", \"apt\", \"arbus\", \"arbus\", \"arbus\", \"asteroid\", \"asteroid\", \"asteroid\", \"aureliano\", \"aureliano\", \"aureliano\", \"autos\", \"autos\", \"autos\", \"awestruck\", \"awestruck\", \"awestruck\", \"bali\", \"bali\", \"bali\", \"barker\", \"barker\", \"barker\", \"bcsn\", \"bcsn\", \"bcsn\", \"beart\", \"beart\", \"beart\", \"berrymore\", \"berrymore\", \"berrymore\", \"binaries\", \"binaries\", \"binaries\", \"bravado\", \"bravado\", \"bravado\", \"broke\", \"broke\", \"broke\", \"bruscantini\", \"bruscantini\", \"bruscantini\", \"buenos\", \"buenos\", \"buenos\", \"bums\", \"bums\", \"bums\", \"buts\", \"buts\", \"buts\", \"cahracters\", \"cahracters\", \"cahracters\", \"cancer\", \"cancer\", \"cancer\", \"cap\\u00edtulos\", \"cap\\u00edtulos\", \"cap\\u00edtulos\", \"carefully\", \"carefully\", \"carefully\", \"charecter\", \"charecter\", \"charecter\", \"chopping\", \"chopping\", \"chopping\", \"chuckles\", \"chuckles\", \"chuckles\", \"clase\", \"clase\", \"clase\", \"cliches\", \"cliches\", \"cliches\", \"compra\", \"compra\", \"compra\", \"conditions\", \"conditions\", \"conditions\", \"cone\", \"cone\", \"cone\", \"corduroy\", \"corduroy\", \"corduroy\", \"covers\", \"covers\", \"covers\", \"cripple\", \"cripple\", \"cripple\", \"cronilogical\", \"cronilogical\", \"cronilogical\", \"darvas\", \"darvas\", \"darvas\", \"delightful\", \"delightful\", \"delightful\", \"designation\", \"designation\", \"designation\", \"dietrich\", \"dietrich\", \"dietrich\", \"disability\", \"disability\", \"disability\", \"discouraged\", \"discouraged\", \"discouraged\", \"displaying\", \"displaying\", \"displaying\", \"dolbly\", \"dolbly\", \"dolbly\", \"dolph\", \"dolph\", \"dolph\", \"emanuell\", \"emanuell\", \"emanuell\", \"engineers\", \"engineers\", \"engineers\", \"enters\", \"enters\", \"enters\", \"entertaining\", \"entertaining\", \"entertaining\", \"entertainment\", \"entertainment\", \"entertainment\", \"ephemistic\", \"ephemistic\", \"ephemistic\", \"episdoes\", \"episdoes\", \"episdoes\", \"exceeption\", \"exceeption\", \"exceeption\", \"explaning\", \"explaning\", \"explaning\", \"famousdirector\", \"famousdirector\", \"famousdirector\", \"fantasies\", \"fantasies\", \"fantasies\", \"feastival\", \"feastival\", \"feastival\", \"featurettes\", \"featurettes\", \"featurettes\", \"fillers\", \"fillers\", \"fillers\", \"fx\", \"fx\", \"fx\", \"garwood\", \"garwood\", \"garwood\", \"grubby\", \"grubby\", \"grubby\", \"hallmarks\", \"hallmarks\", \"hallmarks\", \"hatred\", \"hatred\", \"hatred\", \"hatters\", \"hatters\", \"hatters\", \"headlamp\", \"headlamp\", \"headlamp\", \"heartbreaker\", \"heartbreaker\", \"heartbreaker\", \"hercules\", \"hercules\", \"hercules\", \"hillarious\", \"hillarious\", \"hillarious\", \"hoskins\", \"hoskins\", \"hoskins\", \"institutionalized\", \"institutionalized\", \"institutionalized\", \"integrating\", \"integrating\", \"integrating\", \"investing\", \"investing\", \"investing\", \"jagged\", \"jagged\", \"jagged\", \"jonni\", \"jonni\", \"jonni\", \"krusty\", \"krusty\", \"krusty\", \"locale\", \"locale\", \"locale\", \"lovitz\", \"lovitz\", \"lovitz\", \"mcad\", \"mcad\", \"mcad\", \"meltzer\", \"meltzer\", \"meltzer\", \"messed\", \"messed\", \"messed\", \"mortal\", \"mortal\", \"mortal\", \"moulding\", \"moulding\", \"moulding\", \"mysteries\", \"mysteries\", \"mysteries\", \"northwestern\", \"northwestern\", \"northwestern\", \"obligatory\", \"obligatory\", \"obligatory\", \"occupy\", \"occupy\", \"occupy\", \"outings\", \"outings\", \"outings\", \"pavement\", \"pavement\", \"pavement\", \"pdf\", \"pdf\", \"pdf\", \"percive\", \"percive\", \"percive\", \"pizza\", \"pizza\", \"pizza\", \"plato\", \"plato\", \"plato\", \"policy\", \"policy\", \"policy\", \"pony\", \"pony\", \"pony\", \"positioning\", \"positioning\", \"positioning\", \"prep\", \"prep\", \"prep\", \"psychotic\", \"psychotic\", \"psychotic\", \"recut\", \"recut\", \"recut\", \"redeaming\", \"redeaming\", \"redeaming\", \"reformat\", \"reformat\", \"reformat\", \"republished\", \"republished\", \"republished\", \"risky\", \"risky\", \"risky\", \"rollout\", \"rollout\", \"rollout\", \"sacrificed\", \"sacrificed\", \"sacrificed\", \"sacrilege\", \"sacrilege\", \"sacrilege\", \"sadko\", \"sadko\", \"sadko\", \"safely\", \"safely\", \"safely\", \"scored\", \"scored\", \"scored\", \"sect\", \"sect\", \"sect\", \"slice\", \"slice\", \"slice\", \"sly\", \"sly\", \"sly\", \"smartly\", \"smartly\", \"smartly\", \"smiling\", \"smiling\", \"smiling\", \"speachless\", \"speachless\", \"speachless\", \"spritual\", \"spritual\", \"spritual\", \"stack\", \"stack\", \"stack\", \"stacks\", \"stacks\", \"stacks\", \"stale\", \"stale\", \"stale\", \"stead\", \"stead\", \"stead\", \"suffered\", \"suffered\", \"suffered\", \"superfluous\", \"superfluous\", \"superfluous\", \"swaddleme\", \"swaddleme\", \"swaddleme\", \"teresa\", \"teresa\", \"teresa\", \"terran\", \"terran\", \"terran\", \"texans\", \"texans\", \"texans\", \"thats\", \"thats\", \"thats\", \"transplant\", \"transplant\", \"transplant\", \"triviality\", \"triviality\", \"triviality\", \"twickenham\", \"twickenham\", \"twickenham\", \"undersstand\", \"undersstand\", \"undersstand\", \"unraveled\", \"unraveled\", \"unraveled\", \"upgraded\", \"upgraded\", \"upgraded\", \"vibrating\", \"vibrating\", \"vibrating\", \"vita\", \"vita\", \"vita\", \"weak\", \"weak\", \"weak\", \"weaker\", \"weaker\", \"weaker\"]}, \"R\": 30, \"lambda.step\": 0.01, \"plot.opts\": {\"xlab\": \"PC1\", \"ylab\": \"PC2\"}, \"topic.order\": [3, 1, 2]};\n",
              "\n",
              "function LDAvis_load_lib(url, callback){\n",
              "  var s = document.createElement('script');\n",
              "  s.src = url;\n",
              "  s.async = true;\n",
              "  s.onreadystatechange = s.onload = callback;\n",
              "  s.onerror = function(){console.warn(\"failed to load library \" + url);};\n",
              "  document.getElementsByTagName(\"head\")[0].appendChild(s);\n",
              "}\n",
              "\n",
              "if(typeof(LDAvis) !== \"undefined\"){\n",
              "   // already loaded: just create the visualization\n",
              "   !function(LDAvis){\n",
              "       new LDAvis(\"#\" + \"ldavis_el193140161949244368437122006\", ldavis_el193140161949244368437122006_data);\n",
              "   }(LDAvis);\n",
              "}else if(typeof define === \"function\" && define.amd){\n",
              "   // require.js is available: use it to load d3/LDAvis\n",
              "   require.config({paths: {d3: \"https://d3js.org/d3.v5\"}});\n",
              "   require([\"d3\"], function(d3){\n",
              "      window.d3 = d3;\n",
              "      LDAvis_load_lib(\"https://cdn.jsdelivr.net/gh/bmabey/pyLDAvis@3.3.1/pyLDAvis/js/ldavis.v3.0.0.js\", function(){\n",
              "        new LDAvis(\"#\" + \"ldavis_el193140161949244368437122006\", ldavis_el193140161949244368437122006_data);\n",
              "      });\n",
              "    });\n",
              "}else{\n",
              "    // require.js not available: dynamically load d3 & LDAvis\n",
              "    LDAvis_load_lib(\"https://d3js.org/d3.v5.js\", function(){\n",
              "         LDAvis_load_lib(\"https://cdn.jsdelivr.net/gh/bmabey/pyLDAvis@3.3.1/pyLDAvis/js/ldavis.v3.0.0.js\", function(){\n",
              "                 new LDAvis(\"#\" + \"ldavis_el193140161949244368437122006\", ldavis_el193140161949244368437122006_data);\n",
              "            })\n",
              "         });\n",
              "}\n",
              "</script>"
            ],
            "text/plain": [
              "PreparedData(topic_coordinates=              x         y  topics  cluster       Freq\n",
              "topic                                                \n",
              "2      0.126983  0.004406       1        1  45.074637\n",
              "0     -0.048714 -0.030600       2        1  29.803067\n",
              "1     -0.078270  0.026194       3        1  25.122297, topic_info=               Term         Freq        Total Category  logprob  loglift\n",
              "4208     obligatory   777.000000   777.000000  Default  30.0000  30.0000\n",
              "687           thats   708.000000   708.000000  Default  29.0000  29.0000\n",
              "3026   cronilogical  1159.000000  1159.000000  Default  28.0000  28.0000\n",
              "25905          bcsn   467.000000   467.000000  Default  27.0000  27.0000\n",
              "18293      binaries   547.000000   547.000000  Default  26.0000  26.0000\n",
              "...             ...          ...          ...      ...      ...      ...\n",
              "4560       suffered    32.574300    50.725607   Topic3  -8.0112   0.9385\n",
              "22161         autos    19.011164    24.576958   Topic3  -8.5497   1.1246\n",
              "20885     psychotic    30.169712    53.157822   Topic3  -8.0879   0.8150\n",
              "16574   superfluous    22.479007    32.738866   Topic3  -8.3822   1.0054\n",
              "16373     fantasies    21.455156    34.260928   Topic3  -8.4288   0.9134\n",
              "\n",
              "[179 rows x 6 columns], token_table=       Topic      Freq      Term\n",
              "term                            \n",
              "29022      1  0.017463  abnormal\n",
              "29022      2  0.925551  abnormal\n",
              "29022      3  0.052390  abnormal\n",
              "18196      1  0.900789  absentee\n",
              "18196      2  0.091151  absentee\n",
              "...      ...       ...       ...\n",
              "1973       2  0.135379      weak\n",
              "1973       3  0.009906      weak\n",
              "10915      1  0.935185    weaker\n",
              "10915      2  0.049220    weaker\n",
              "10915      3  0.014766    weaker\n",
              "\n",
              "[429 rows x 3 columns], R=30, lambda_step=0.01, plot_opts={'xlab': 'PC1', 'ylab': 'PC2'}, topic_order=[3, 1, 2])"
            ]
          },
          "metadata": {
            "tags": []
          },
          "execution_count": 16
        }
      ]
    },
    {
      "cell_type": "markdown",
      "metadata": {
        "id": "dKEHtecMeiZ7"
      },
      "source": [
        "**Exercice :**\n",
        "\n",
        "Appliquer le topic modelling au dataset `headlines.csv`, qui contient des titres de journaux."
      ]
    },
    {
      "cell_type": "code",
      "metadata": {
        "id": "_X54pVSVeiZ8"
      },
      "source": [
        "df = pd.read_csv('data/headlines.csv')\n",
        "df.head()"
      ],
      "execution_count": null,
      "outputs": []
    },
    {
      "cell_type": "code",
      "metadata": {
        "id": "nq-82IbCeiZ8"
      },
      "source": [
        ""
      ],
      "execution_count": null,
      "outputs": []
    },
    {
      "cell_type": "code",
      "metadata": {
        "id": "q6blKXAPeiZ8"
      },
      "source": [
        ""
      ],
      "execution_count": null,
      "outputs": []
    }
  ]
}